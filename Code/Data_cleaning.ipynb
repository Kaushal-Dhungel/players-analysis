{
 "cells": [
  {
   "cell_type": "code",
   "execution_count": 1,
   "id": "ca069dd7",
   "metadata": {},
   "outputs": [],
   "source": [
    "import pandas as pd\n",
    "import numpy as np\n",
    "import json\n",
    "import os"
   ]
  },
  {
   "cell_type": "code",
   "execution_count": 15,
   "id": "7ee2e090",
   "metadata": {},
   "outputs": [],
   "source": [
    "all_fbref_df = pd.read_csv(\"fbref_final.csv\")\n",
    "all_transfermarkt_df = pd.read_csv(\"transfermarkt_final.csv\")"
   ]
  },
  {
   "cell_type": "code",
   "execution_count": 16,
   "id": "b8fa98bd",
   "metadata": {},
   "outputs": [],
   "source": [
    "all_fbref_df = all_fbref_df.drop(columns=[\"Unnamed: 0\"], axis=1)\n",
    "all_transfermarkt_df = all_transfermarkt_df.drop(columns=[\"Unnamed: 0\"], axis=1)"
   ]
  },
  {
   "cell_type": "code",
   "execution_count": 17,
   "id": "f19d2a0c",
   "metadata": {},
   "outputs": [],
   "source": [
    "all_fbref_df = all_fbref_df.drop_duplicates()\n",
    "all_transfermarkt_df = all_transfermarkt_df.drop_duplicates()\n",
    "final_data = pd.merge(all_fbref_df,all_transfermarkt_df, on=\"Name\", how=\"outer\")"
   ]
  },
  {
   "cell_type": "code",
   "execution_count": 18,
   "id": "063708a1",
   "metadata": {},
   "outputs": [],
   "source": [
    "final_data = final_data.drop_duplicates(subset=['Name'], keep='last')\n",
    "final_data.to_csv(\"final_data.csv\")"
   ]
  },
  {
   "cell_type": "code",
   "execution_count": 19,
   "id": "1489f85d",
   "metadata": {},
   "outputs": [
    {
     "data": {
      "text/plain": [
       "701"
      ]
     },
     "execution_count": 19,
     "metadata": {},
     "output_type": "execute_result"
    }
   ],
   "source": [
    "len(final_data)"
   ]
  }
 ],
 "metadata": {
  "kernelspec": {
   "display_name": "Python 3",
   "language": "python",
   "name": "python3"
  },
  "language_info": {
   "codemirror_mode": {
    "name": "ipython",
    "version": 3
   },
   "file_extension": ".py",
   "mimetype": "text/x-python",
   "name": "python",
   "nbconvert_exporter": "python",
   "pygments_lexer": "ipython3",
   "version": "3.9.6"
  }
 },
 "nbformat": 4,
 "nbformat_minor": 5
}
